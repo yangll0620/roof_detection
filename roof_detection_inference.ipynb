{
 "cells": [
  {
   "cell_type": "code",
   "execution_count": 1,
   "id": "01f0e6e4-488e-4f23-aee9-45c15da6f3f0",
   "metadata": {},
   "outputs": [],
   "source": [
    "import os\n",
    "import glob\n",
    "import numpy as np\n",
    "\n",
    "import tensorflow as tf"
   ]
  },
  {
   "cell_type": "code",
   "execution_count": 2,
   "id": "c82b6bd0-d15a-4d18-a794-5e1916b41a24",
   "metadata": {},
   "outputs": [],
   "source": [
    "from create_model import create_detection_model\n",
    "from utilities import plot_detection, read_image_to_numpy"
   ]
  },
  {
   "cell_type": "code",
   "execution_count": 3,
   "id": "d0402f12-e586-4bd6-a169-eecab10be6fb",
   "metadata": {},
   "outputs": [],
   "source": [
    "def obj_detect(model, input_tensor):\n",
    "    \"\"\"\n",
    "        Args:\n",
    "            input_tensor: [height, width, 3]\n",
    "    \"\"\"\n",
    "    preprocessed_images, shapes = model.preprocess(tf.expand_dims(input_tensor, axis=0))\n",
    "    prediction_dict = model.predict(preprocessed_images, shapes)\n",
    "    postprocessed_dict = model.postprocess(prediction_dict, shapes)\n",
    "\n",
    "    return postprocessed_dict"
   ]
  },
  {
   "cell_type": "code",
   "execution_count": 4,
   "id": "911f500b-48c8-4e35-9147-d24ebc5b95a7",
   "metadata": {},
   "outputs": [],
   "source": [
    "name_label_mappings = {'roof': 1}\n",
    "# By convention, our non-background classes start counting at 1.  \n",
    "category_index = {}\n",
    "for name, label in name_label_mappings.items():\n",
    "    category_index[label] = {'id': label, 'name': name}\n",
    "\n",
    "num_classes = len(name_label_mappings)\n",
    "\n",
    "label_id_offset = 1"
   ]
  },
  {
   "cell_type": "code",
   "execution_count": 5,
   "id": "48246386-be03-4db0-8c59-4a00acd2e378",
   "metadata": {},
   "outputs": [
    {
     "name": "stdout",
     "output_type": "stream",
     "text": [
      "The weights of detection_model restored from : \n",
      "None\n"
     ]
    }
   ],
   "source": [
    "load_latest_checkpoint = True\n",
    "\n",
    "\n",
    "if load_latest_checkpoint:\n",
    "\n",
    "    pipeline_config_path = 'object_detection/configs/tf2/ssd_resnet50_v1_fpn_640x640_coco17_tpu-8.config'\n",
    "    detection_model = create_detection_model(pipeline_config_path, num_classes = num_classes)\n",
    "    \n",
    "    checkpoint_dir = 'models/finetuned_models/ssd_resnet50_v1_fpn_640x640_coco17_tpu-8'\n",
    "    \n",
    "    ckpt = tf.compat.v2.train.Checkpoint(model=detection_model)\n",
    "    latest_checkpoint = tf.train.latest_checkpoint(checkpoint_dir)\n",
    "    ckpt.restore(latest_checkpoint)\n",
    "    print(\"The weights of detection_model restored from : \\n{}\".format(latest_checkpoint))"
   ]
  },
  {
   "cell_type": "code",
   "execution_count": 6,
   "id": "226ceb9b-28ef-4af2-98eb-21735c8075b0",
   "metadata": {},
   "outputs": [
    {
     "name": "stdout",
     "output_type": "stream",
     "text": [
      "Detected image saved in data/sample_data/roof/rawdata/test/detected_prediction_image_1-2.jpg\n",
      "Detected image saved in data/sample_data/roof/rawdata/test/detected_prediction_image_1-1.jpg\n"
     ]
    }
   ],
   "source": [
    "image_format = '.tif'\n",
    "test_image_dir = 'data/sample_data/roof/rawdata/test'\n",
    "test_filenames = glob.glob(test_image_dir + '/*' + image_format)\n",
    "\n",
    "detected_img_format = '.jpg'\n",
    "\n",
    "for image_file in test_filenames:\n",
    "    image_np = read_image_to_numpy(image_file)\n",
    "    input_tensor = tf.convert_to_tensor(image_np, dtype=tf.float32)\n",
    "\n",
    "    detections = obj_detect(model = detection_model, input_tensor=input_tensor)\n",
    "    \n",
    "    filename = os.path.basename(image_file)\n",
    "    filename_prefix = filename.split('.tif')[0]\n",
    "    filename_prefix = filename_prefix.replace(' ', '_').replace('.', '-')\n",
    "    detected_file = os.path.join(test_image_dir, 'detected_'+ filename_prefix + detected_img_format)\n",
    "    print(\"Detected image saved in {}\".format(detected_file))\n",
    "    plot_detection(image_np,\n",
    "                   detections['detection_boxes'][0].numpy(), \n",
    "                   detections['detection_classes'][0].numpy().astype(np.int32) + label_id_offset,\n",
    "                   detections['detection_scores'][0].numpy(),\n",
    "                   category_index, \n",
    "                   min_score_thresh = 0.5,\n",
    "                   figsize=(15, 20), \n",
    "                   image_name=detected_file)"
   ]
  },
  {
   "cell_type": "code",
   "execution_count": null,
   "id": "a7eaeca1-7cec-43fa-b7a2-bf3e203540a7",
   "metadata": {},
   "outputs": [],
   "source": []
  }
 ],
 "metadata": {
  "kernelspec": {
   "display_name": "Python 3 (ipykernel)",
   "language": "python",
   "name": "python3"
  },
  "language_info": {
   "codemirror_mode": {
    "name": "ipython",
    "version": 3
   },
   "file_extension": ".py",
   "mimetype": "text/x-python",
   "name": "python",
   "nbconvert_exporter": "python",
   "pygments_lexer": "ipython3",
   "version": "3.11.5"
  }
 },
 "nbformat": 4,
 "nbformat_minor": 5
}
