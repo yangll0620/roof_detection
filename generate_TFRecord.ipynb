{
 "cells": [
  {
   "cell_type": "code",
   "execution_count": 1,
   "id": "ea8cc3e9-cc33-4ae2-bc75-603c2bfc7677",
   "metadata": {},
   "outputs": [],
   "source": [
    "from TFRecord_Generate_Parse import create_tf_record"
   ]
  },
  {
   "cell_type": "code",
   "execution_count": 2,
   "id": "db152361-08d0-47db-994f-8070452ac3a4",
   "metadata": {},
   "outputs": [
    {
     "name": "stderr",
     "output_type": "stream",
     "text": [
      "/opt/anaconda3/envs/tfod/lib/python3.11/site-packages/PIL/Image.py:3186: DecompressionBombWarning: Image size (110495000 pixels) exceeds limit of 89478485 pixels, could be decompression bomb DOS attack.\n",
      "  warnings.warn(\n"
     ]
    },
    {
     "name": "stdout",
     "output_type": "stream",
     "text": [
      "Generated TFRecord File: data/sample_data/roof/train.tfrecord\n"
     ]
    }
   ],
   "source": [
    "# Generate train.tfrecord\n",
    "output_file = 'data/sample_data/roof/train.tfrecord'\n",
    "xml_dir = 'data/sample_data/roof/rawdata/train'\n",
    "image_dir = 'data/sample_data/roof/rawdata/train'\n",
    "image_suffix = 'tif'\n",
    "\n",
    "create_tf_record(output_file, xml_dir, image_dir, image_suffix = image_suffix)"
   ]
  },
  {
   "cell_type": "code",
   "execution_count": 3,
   "id": "5be1ba5f-cc4b-4e22-994d-a7a7d318a201",
   "metadata": {},
   "outputs": [
    {
     "name": "stdout",
     "output_type": "stream",
     "text": [
      "Generated TFRecord File: data/sample_data/roof/valid.tfrecord\n"
     ]
    }
   ],
   "source": [
    "# Generate valid.tfrecord\n",
    "output_file = 'data/sample_data/roof/valid.tfrecord'\n",
    "xml_dir = 'data/sample_data/roof/rawdata/valid'\n",
    "image_dir = 'data/sample_data/roof/rawdata/valid'\n",
    "image_suffix = 'tif'\n",
    "\n",
    "create_tf_record(output_file, xml_dir, image_dir, image_suffix = image_suffix)"
   ]
  }
 ],
 "metadata": {
  "kernelspec": {
   "display_name": "Python 3 (ipykernel)",
   "language": "python",
   "name": "python3"
  },
  "language_info": {
   "codemirror_mode": {
    "name": "ipython",
    "version": 3
   },
   "file_extension": ".py",
   "mimetype": "text/x-python",
   "name": "python",
   "nbconvert_exporter": "python",
   "pygments_lexer": "ipython3",
   "version": "3.11.5"
  }
 },
 "nbformat": 4,
 "nbformat_minor": 5
}
